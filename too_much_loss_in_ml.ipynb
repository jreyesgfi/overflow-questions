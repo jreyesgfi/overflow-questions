{
 "cells": [
  {
   "cell_type": "markdown",
   "metadata": {},
   "source": [
    "Prepare the data"
   ]
  },
  {
   "cell_type": "code",
   "execution_count": 1,
   "metadata": {},
   "outputs": [
    {
     "ename": "ModuleNotFoundError",
     "evalue": "No module named 'pandas'",
     "output_type": "error",
     "traceback": [
      "\u001b[1;31m---------------------------------------------------------------------------\u001b[0m",
      "\u001b[1;31mModuleNotFoundError\u001b[0m                       Traceback (most recent call last)",
      "Cell \u001b[1;32mIn[1], line 2\u001b[0m\n\u001b[0;32m      1\u001b[0m \u001b[38;5;28;01mimport\u001b[39;00m \u001b[38;5;21;01mnumpy\u001b[39;00m \u001b[38;5;28;01mas\u001b[39;00m \u001b[38;5;21;01mnp\u001b[39;00m\n\u001b[1;32m----> 2\u001b[0m \u001b[38;5;28;01mimport\u001b[39;00m \u001b[38;5;21;01mpandas\u001b[39;00m \u001b[38;5;28;01mas\u001b[39;00m \u001b[38;5;21;01mpd\u001b[39;00m\n\u001b[0;32m      3\u001b[0m \u001b[38;5;28;01mfrom\u001b[39;00m \u001b[38;5;21;01msklearn\u001b[39;00m\u001b[38;5;21;01m.\u001b[39;00m\u001b[38;5;21;01mpreprocessing\u001b[39;00m \u001b[38;5;28;01mimport\u001b[39;00m MinMaxScaler\n\u001b[0;32m      5\u001b[0m \u001b[38;5;66;03m# Generate dummy data for 10,000 values of closing prices and open interest values\u001b[39;00m\n",
      "\u001b[1;31mModuleNotFoundError\u001b[0m: No module named 'pandas'"
     ]
    }
   ],
   "source": [
    "import numpy as np\n",
    "import pandas as pd\n",
    "from sklearn.preprocessing import MinMaxScaler\n",
    "\n",
    "# Generate dummy data for 10,000 values of closing prices and open interest values\n",
    "np.random.seed(42)  # Setting a seed for reproducibility\n",
    "\n",
    "# Generating random values to simulate cryptocurrency closing prices and open interest values\n",
    "closing_prices = np.random.uniform(30000, 60000, 10000)  # Random values between 30,000 and 60,000\n",
    "open_interest_values = np.random.uniform(100000, 200000, 10000)  # Random values between 100,000 and 200,000\n",
    "target_values = np.random.uniform(30000, 60000, 10000)  # Simulated target prices for the next step\n",
    "\n",
    "# Converting data into 100x100 format\n",
    "x1 = np.array(closing_prices[:10000]).reshape(100, 100)\n",
    "x2 = np.array(open_interest_values[:10000]).reshape(100, 100)\n",
    "\n",
    "# Apply MinMaxScaler to normalize the data\n",
    "min_max_scaler = MinMaxScaler()\n",
    "x1 = min_max_scaler.fit_transform(x1)\n",
    "x2 = min_max_scaler.fit_transform(x2)\n",
    "\n",
    "# Ensure data is of float type\n",
    "x1 = x1.astype(float)\n",
    "x2 = x2.astype(float)\n",
    "\n",
    "# Convert target data to required format\n",
    "y = np.array(target_values[:10000]).reshape(100, 100).astype(float)\n"
   ]
  },
  {
   "cell_type": "code",
   "execution_count": null,
   "metadata": {},
   "outputs": [],
   "source": [
    "import numpy as np\n",
    "import tensorflow as tf\n",
    "from tensorflow.keras import layers, models, Sequential, Model, Input\n",
    "from tensorflow.keras.optimizers import Adam\n",
    "from sklearn.preprocessing import MinMaxScaler\n",
    "import matplotlib.pyplot as plt\n",
    "#import ccxt\n",
    "import pandas as pd\n",
    "#import requests\n",
    "import json\n",
    "import datetime as dt\n",
    "import time\n",
    "\n",
    "# Define inputs\n",
    "input1 = Input(shape=(100, 1))\n",
    "input2 = Input(shape=(100, 1))\n",
    "\n",
    "# Create LSTM layers for each input\n",
    "lstm1 = layers.LSTM(units=256, return_sequences=True, activation='sigmoid')(input1)\n",
    "lstm1 = layers.LSTM(units=128, return_sequences=True, activation='tanh')(lstm1)\n",
    "lstm1 = layers.LSTM(units=64, activation='linear')(lstm1)\n",
    "lstm1 = layers.Dropout(0.2)(lstm1)\n",
    "\n",
    "lstm2 = layers.LSTM(units=256, return_sequences=True, activation='sigmoid')(input2)\n",
    "lstm2 = layers.LSTM(units=128, return_sequences=True, activation='tanh')(lstm2)\n",
    "lstm2 = layers.LSTM(units=64, activation='linear')(lstm2)\n",
    "lstm2 = layers.Dropout(0.2)(lstm2)\n",
    "\n",
    "# Merge all LSTM outputs\n",
    "merged = layers.concatenate([lstm1, lstm2])\n",
    "\n",
    "# Add a Dense layer for the merged output\n",
    "output = layers.Dense(100, activation='linear')(merged)\n",
    "\n",
    "# Create and compile the model\n",
    "model = Model(inputs=[input1, input2], outputs=output)\n",
    "optimizer = Adam(learning_rate=0.000005)\n",
    "model.compile(loss='mse', optimizer=optimizer)\n",
    "\n",
    "# Train the model\n",
    "history = model.fit([x1, x2], y, batch_size=64, epochs=100)\n"
   ]
  }
 ],
 "metadata": {
  "kernelspec": {
   "display_name": "myenv",
   "language": "python",
   "name": "python3"
  },
  "language_info": {
   "codemirror_mode": {
    "name": "ipython",
    "version": 3
   },
   "file_extension": ".py",
   "mimetype": "text/x-python",
   "name": "python",
   "nbconvert_exporter": "python",
   "pygments_lexer": "ipython3",
   "version": "3.12.7"
  }
 },
 "nbformat": 4,
 "nbformat_minor": 2
}
